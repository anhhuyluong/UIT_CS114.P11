{
 "cells": [
  {
   "cell_type": "code",
   "execution_count": 55,
   "metadata": {},
   "outputs": [],
   "source": [
    "import pandas as pd\n",
    "import re\n",
    "import numpy as np\n",
    "import os\n",
    "import tensorflow as tf\n",
    "from tensorflow.keras.applications import MobileNetV2\n",
    "from sklearn.model_selection import train_test_split\n",
    "from sklearn.metrics import classification_report\n",
    "from tensorflow.keras.preprocessing.image import load_img, img_to_array\n",
    "from tensorflow.keras.utils import to_categorical\n",
    "from tensorflow.keras.models import Sequential\n",
    "from tensorflow.keras.layers import Dense, Flatten, Dropout, BatchNormalization\n",
    "from tensorflow.keras.applications import MobileNetV2\n",
    "from tensorflow.keras.optimizers import Adam\n",
    "from tensorflow.keras.callbacks import ModelCheckpoint, EarlyStopping"
   ]
  },
  {
   "cell_type": "markdown",
   "metadata": {},
   "source": [
    "# Chuẩn bị dữ liệu "
   ]
  },
  {
   "cell_type": "code",
   "execution_count": 2,
   "metadata": {},
   "outputs": [],
   "source": [
    "tag_mapping = {\n",
    "    \"Others\": 0,\n",
    "    \"Honda\": 1,\n",
    "    \"Hyundai\": 2,\n",
    "    \"KIA\": 3,\n",
    "    \"Mazda\": 4,\n",
    "    \"Mitsubishi\" : 5,\n",
    "    \"Toyota\": 6,\n",
    "    \"Suzuki\": 7,\n",
    "    \"Vinfast\": 8\n",
    "}"
   ]
  },
  {
   "cell_type": "code",
   "execution_count": 10,
   "metadata": {},
   "outputs": [],
   "source": [
    "def extract_brand_from_path(path, tag_mapping):\n",
    "    for brand in tag_mapping.keys():\n",
    "        if re.search(fr'\\b{brand}\\b', path, re.IGNORECASE):\n",
    "            return brand\n",
    "    return \"Unknown\""
   ]
  },
  {
   "cell_type": "code",
   "execution_count": 11,
   "metadata": {},
   "outputs": [],
   "source": [
    "data_path = \"clustering_results.csv\"\n",
    "data = pd.read_csv(data_path)"
   ]
  },
  {
   "cell_type": "code",
   "execution_count": 13,
   "metadata": {},
   "outputs": [],
   "source": [
    "data['BrandName'] = data['ImageFullPath'].apply(lambda x:extract_brand_from_path(x, tag_mapping))\n",
    "data['Label'] = data['BrandName'].map(tag_mapping).fillna(-1).astype(int)"
   ]
  },
  {
   "cell_type": "code",
   "execution_count": 14,
   "metadata": {},
   "outputs": [
    {
     "data": {
      "text/html": [
       "<div>\n",
       "<style scoped>\n",
       "    .dataframe tbody tr th:only-of-type {\n",
       "        vertical-align: middle;\n",
       "    }\n",
       "\n",
       "    .dataframe tbody tr th {\n",
       "        vertical-align: top;\n",
       "    }\n",
       "\n",
       "    .dataframe thead th {\n",
       "        text-align: right;\n",
       "    }\n",
       "</style>\n",
       "<table border=\"1\" class=\"dataframe\">\n",
       "  <thead>\n",
       "    <tr style=\"text-align: right;\">\n",
       "      <th></th>\n",
       "      <th>ImageFullPath</th>\n",
       "      <th>ClusterID</th>\n",
       "      <th>BrandName</th>\n",
       "      <th>Label</th>\n",
       "    </tr>\n",
       "  </thead>\n",
       "  <tbody>\n",
       "    <tr>\n",
       "      <th>0</th>\n",
       "      <td>D:/dataset/CS114_ML\\Others/21522373-21522499.L...</td>\n",
       "      <td>1</td>\n",
       "      <td>Others</td>\n",
       "      <td>0</td>\n",
       "    </tr>\n",
       "    <tr>\n",
       "      <th>1</th>\n",
       "      <td>D:/dataset/CS114_ML\\Others/21522373-21522499.L...</td>\n",
       "      <td>1</td>\n",
       "      <td>Others</td>\n",
       "      <td>0</td>\n",
       "    </tr>\n",
       "    <tr>\n",
       "      <th>2</th>\n",
       "      <td>D:/dataset/CS114_ML\\Others/21522373-21522499.L...</td>\n",
       "      <td>4</td>\n",
       "      <td>Others</td>\n",
       "      <td>0</td>\n",
       "    </tr>\n",
       "    <tr>\n",
       "      <th>3</th>\n",
       "      <td>D:/dataset/CS114_ML\\Others/21522373-21522499.L...</td>\n",
       "      <td>4</td>\n",
       "      <td>Others</td>\n",
       "      <td>0</td>\n",
       "    </tr>\n",
       "    <tr>\n",
       "      <th>4</th>\n",
       "      <td>D:/dataset/CS114_ML\\Others/21522373-21522499.L...</td>\n",
       "      <td>1</td>\n",
       "      <td>Others</td>\n",
       "      <td>0</td>\n",
       "    </tr>\n",
       "    <tr>\n",
       "      <th>...</th>\n",
       "      <td>...</td>\n",
       "      <td>...</td>\n",
       "      <td>...</td>\n",
       "      <td>...</td>\n",
       "    </tr>\n",
       "    <tr>\n",
       "      <th>31793</th>\n",
       "      <td>D:/dataset/CS114_ML\\Vinfast/22521692-22521676....</td>\n",
       "      <td>2</td>\n",
       "      <td>Vinfast</td>\n",
       "      <td>8</td>\n",
       "    </tr>\n",
       "    <tr>\n",
       "      <th>31794</th>\n",
       "      <td>D:/dataset/CS114_ML\\Vinfast/22521692-22521676....</td>\n",
       "      <td>4</td>\n",
       "      <td>Vinfast</td>\n",
       "      <td>8</td>\n",
       "    </tr>\n",
       "    <tr>\n",
       "      <th>31795</th>\n",
       "      <td>D:/dataset/CS114_ML\\Vinfast/22521692-22521676....</td>\n",
       "      <td>2</td>\n",
       "      <td>Vinfast</td>\n",
       "      <td>8</td>\n",
       "    </tr>\n",
       "    <tr>\n",
       "      <th>31796</th>\n",
       "      <td>D:/dataset/CS114_ML\\Vinfast/22521692-22521676....</td>\n",
       "      <td>4</td>\n",
       "      <td>Vinfast</td>\n",
       "      <td>8</td>\n",
       "    </tr>\n",
       "    <tr>\n",
       "      <th>31797</th>\n",
       "      <td>D:/dataset/CS114_ML\\Vinfast/22521692-22521676....</td>\n",
       "      <td>4</td>\n",
       "      <td>Vinfast</td>\n",
       "      <td>8</td>\n",
       "    </tr>\n",
       "  </tbody>\n",
       "</table>\n",
       "<p>31798 rows × 4 columns</p>\n",
       "</div>"
      ],
      "text/plain": [
       "                                           ImageFullPath  ClusterID BrandName  \\\n",
       "0      D:/dataset/CS114_ML\\Others/21522373-21522499.L...          1    Others   \n",
       "1      D:/dataset/CS114_ML\\Others/21522373-21522499.L...          1    Others   \n",
       "2      D:/dataset/CS114_ML\\Others/21522373-21522499.L...          4    Others   \n",
       "3      D:/dataset/CS114_ML\\Others/21522373-21522499.L...          4    Others   \n",
       "4      D:/dataset/CS114_ML\\Others/21522373-21522499.L...          1    Others   \n",
       "...                                                  ...        ...       ...   \n",
       "31793  D:/dataset/CS114_ML\\Vinfast/22521692-22521676....          2   Vinfast   \n",
       "31794  D:/dataset/CS114_ML\\Vinfast/22521692-22521676....          4   Vinfast   \n",
       "31795  D:/dataset/CS114_ML\\Vinfast/22521692-22521676....          2   Vinfast   \n",
       "31796  D:/dataset/CS114_ML\\Vinfast/22521692-22521676....          4   Vinfast   \n",
       "31797  D:/dataset/CS114_ML\\Vinfast/22521692-22521676....          4   Vinfast   \n",
       "\n",
       "       Label  \n",
       "0          0  \n",
       "1          0  \n",
       "2          0  \n",
       "3          0  \n",
       "4          0  \n",
       "...      ...  \n",
       "31793      8  \n",
       "31794      8  \n",
       "31795      8  \n",
       "31796      8  \n",
       "31797      8  \n",
       "\n",
       "[31798 rows x 4 columns]"
      ]
     },
     "execution_count": 14,
     "metadata": {},
     "output_type": "execute_result"
    }
   ],
   "source": [
    "data"
   ]
  },
  {
   "cell_type": "code",
   "execution_count": 15,
   "metadata": {},
   "outputs": [
    {
     "data": {
      "text/plain": [
       "array([0, 1, 2, 3, 4, 5, 6, 7, 8])"
      ]
     },
     "execution_count": 15,
     "metadata": {},
     "output_type": "execute_result"
    }
   ],
   "source": [
    "data['Label'].unique()"
   ]
  },
  {
   "cell_type": "code",
   "execution_count": 20,
   "metadata": {},
   "outputs": [
    {
     "data": {
      "text/html": [
       "<div>\n",
       "<style scoped>\n",
       "    .dataframe tbody tr th:only-of-type {\n",
       "        vertical-align: middle;\n",
       "    }\n",
       "\n",
       "    .dataframe tbody tr th {\n",
       "        vertical-align: top;\n",
       "    }\n",
       "\n",
       "    .dataframe thead th {\n",
       "        text-align: right;\n",
       "    }\n",
       "</style>\n",
       "<table border=\"1\" class=\"dataframe\">\n",
       "  <thead>\n",
       "    <tr style=\"text-align: right;\">\n",
       "      <th></th>\n",
       "      <th>Brand</th>\n",
       "      <th>ImageCount</th>\n",
       "    </tr>\n",
       "  </thead>\n",
       "  <tbody>\n",
       "    <tr>\n",
       "      <th>0</th>\n",
       "      <td>Others</td>\n",
       "      <td>4469</td>\n",
       "    </tr>\n",
       "    <tr>\n",
       "      <th>1</th>\n",
       "      <td>Honda</td>\n",
       "      <td>2769</td>\n",
       "    </tr>\n",
       "    <tr>\n",
       "      <th>2</th>\n",
       "      <td>Hyundai</td>\n",
       "      <td>3088</td>\n",
       "    </tr>\n",
       "    <tr>\n",
       "      <th>3</th>\n",
       "      <td>KIA</td>\n",
       "      <td>2529</td>\n",
       "    </tr>\n",
       "    <tr>\n",
       "      <th>4</th>\n",
       "      <td>Mazda</td>\n",
       "      <td>2989</td>\n",
       "    </tr>\n",
       "    <tr>\n",
       "      <th>5</th>\n",
       "      <td>Mitsubishi</td>\n",
       "      <td>2689</td>\n",
       "    </tr>\n",
       "    <tr>\n",
       "      <th>6</th>\n",
       "      <td>Toyota</td>\n",
       "      <td>5092</td>\n",
       "    </tr>\n",
       "    <tr>\n",
       "      <th>7</th>\n",
       "      <td>Suzuki</td>\n",
       "      <td>5965</td>\n",
       "    </tr>\n",
       "    <tr>\n",
       "      <th>8</th>\n",
       "      <td>Vinfast</td>\n",
       "      <td>2208</td>\n",
       "    </tr>\n",
       "  </tbody>\n",
       "</table>\n",
       "</div>"
      ],
      "text/plain": [
       "        Brand  ImageCount\n",
       "0      Others        4469\n",
       "1       Honda        2769\n",
       "2     Hyundai        3088\n",
       "3         KIA        2529\n",
       "4       Mazda        2989\n",
       "5  Mitsubishi        2689\n",
       "6      Toyota        5092\n",
       "7      Suzuki        5965\n",
       "8     Vinfast        2208"
      ]
     },
     "execution_count": 20,
     "metadata": {},
     "output_type": "execute_result"
    }
   ],
   "source": [
    "brand_counts = data['BrandName'].value_counts()\n",
    "\n",
    "brand_counts_df = brand_counts.reset_index()\n",
    "brand_counts_df.columns = ['Brand', 'ImageCount']\n",
    "\n",
    "ordered_brands = list(tag_mapping.keys())\n",
    "ordered_brand_counts = brand_counts.reindex(ordered_brands).fillna(0).astype(int)\n",
    "\n",
    "ordered_brand_counts_df = ordered_brand_counts.reset_index()\n",
    "ordered_brand_counts_df.columns = ['Brand', 'ImageCount']\n",
    "ordered_brand_counts_df"
   ]
  },
  {
   "cell_type": "code",
   "execution_count": null,
   "metadata": {},
   "outputs": [],
   "source": [
    "def load_and_preprocess_images(file_paths, img_size):\n",
    "    images = []\n",
    "    for path in file_paths:\n",
    "        try:\n",
    "            img = load_img(path, target_size=img_size)\n",
    "            img = img_to_array(img) / 255.0\n",
    "            images.append(img)\n",
    "        except Exception as e:\n",
    "            print(f'Error loading image {path}: {e}')\n",
    "    return np.array(images)"
   ]
  },
  {
   "cell_type": "code",
   "execution_count": null,
   "metadata": {},
   "outputs": [],
   "source": [
    "def prepare_data(data, img_size=(224, 224)):\n",
    "    # Ensure file paths exist\n",
    "    data = data[data['ImageFullPath'].apply(os.path.exists)]\n",
    "\n",
    "    # Extract file paths and labels\n",
    "    file_paths = data['ImageFullPath'].values\n",
    "    labels = to_categorical(data['Label'], num_classes=len(tag_mapping))\n",
    "\n",
    "    # Split into train and test sets\n",
    "    train_paths, test_paths, train_labels, test_labels = train_test_split(\n",
    "        file_paths, labels, test_size=0.2, random_state=42, stratify=data['Label']\n",
    "    )\n",
    "\n",
    "    # Load and preprocess images\n",
    "    X_train = load_and_preprocess_images(train_paths, img_size)\n",
    "    X_test = load_and_preprocess_images(test_paths, img_size)\n",
    "\n",
    "    return X_train, X_test, train_labels, test_labels"
   ]
  },
  {
   "cell_type": "code",
   "execution_count": null,
   "metadata": {},
   "outputs": [],
   "source": [
    "X_train, X_test, y_train, y_test = prepare_data(data)"
   ]
  },
  {
   "cell_type": "markdown",
   "metadata": {},
   "source": [
    "## First: \n",
    "* Only MobileNetV2, trainable = False\n",
    "* Learning rate = 0.0001"
   ]
  },
  {
   "cell_type": "code",
   "execution_count": 59,
   "metadata": {},
   "outputs": [],
   "source": [
    "base_model = MobileNetV2(weights='imagenet', include_top=False, input_shape=(224, 224, 3), pooling='avg')\n",
    "base_model.trainable = False"
   ]
  },
  {
   "cell_type": "code",
   "execution_count": 60,
   "metadata": {},
   "outputs": [],
   "source": [
    "model = Sequential([\n",
    "    base_model,\n",
    "    Flatten(),\n",
    "    Dense(256, activation='relu'),\n",
    "    BatchNormalization(),\n",
    "    Dropout(0.3),\n",
    "    Dense(128, activation='relu'),\n",
    "    BatchNormalization(),\n",
    "    Dropout(0.2),\n",
    "    Dense(len(tag_mapping), activation='softmax')\n",
    "])"
   ]
  },
  {
   "cell_type": "code",
   "execution_count": 61,
   "metadata": {},
   "outputs": [],
   "source": [
    "model.compile(optimizer=Adam(learning_rate=0.0001), loss='categorical_crossentropy', metrics=['accuracy'])"
   ]
  },
  {
   "cell_type": "code",
   "execution_count": 63,
   "metadata": {},
   "outputs": [],
   "source": [
    "checkpoint = ModelCheckpoint('best_car_brand_model_1601.keras', monitor='val_accuracy', save_best_only=True)\n",
    "early_stopping = EarlyStopping(monitor='val_accuracy', patience=10, restore_best_weights=True)"
   ]
  },
  {
   "cell_type": "code",
   "execution_count": 64,
   "metadata": {},
   "outputs": [
    {
     "name": "stdout",
     "output_type": "stream",
     "text": [
      "Epoch 1/40\n",
      "\u001b[1m795/795\u001b[0m \u001b[32m━━━━━━━━━━━━━━━━━━━━\u001b[0m\u001b[37m\u001b[0m \u001b[1m425s\u001b[0m 523ms/step - accuracy: 0.2051 - loss: 2.5277 - val_accuracy: 0.3569 - val_loss: 1.8558\n",
      "Epoch 2/40\n",
      "\u001b[1m795/795\u001b[0m \u001b[32m━━━━━━━━━━━━━━━━━━━━\u001b[0m\u001b[37m\u001b[0m \u001b[1m342s\u001b[0m 430ms/step - accuracy: 0.3349 - loss: 1.9791 - val_accuracy: 0.3994 - val_loss: 1.7075\n",
      "Epoch 3/40\n",
      "\u001b[1m795/795\u001b[0m \u001b[32m━━━━━━━━━━━━━━━━━━━━\u001b[0m\u001b[37m\u001b[0m \u001b[1m322s\u001b[0m 405ms/step - accuracy: 0.3753 - loss: 1.8178 - val_accuracy: 0.4272 - val_loss: 1.6443\n",
      "Epoch 4/40\n",
      "\u001b[1m795/795\u001b[0m \u001b[32m━━━━━━━━━━━━━━━━━━━━\u001b[0m\u001b[37m\u001b[0m \u001b[1m319s\u001b[0m 400ms/step - accuracy: 0.4037 - loss: 1.7215 - val_accuracy: 0.4431 - val_loss: 1.6051\n",
      "Epoch 5/40\n",
      "\u001b[1m795/795\u001b[0m \u001b[32m━━━━━━━━━━━━━━━━━━━━\u001b[0m\u001b[37m\u001b[0m \u001b[1m309s\u001b[0m 389ms/step - accuracy: 0.4267 - loss: 1.6361 - val_accuracy: 0.4585 - val_loss: 1.5683\n",
      "Epoch 6/40\n",
      "\u001b[1m795/795\u001b[0m \u001b[32m━━━━━━━━━━━━━━━━━━━━\u001b[0m\u001b[37m\u001b[0m \u001b[1m322s\u001b[0m 389ms/step - accuracy: 0.4487 - loss: 1.5945 - val_accuracy: 0.4607 - val_loss: 1.5489\n",
      "Epoch 7/40\n",
      "\u001b[1m795/795\u001b[0m \u001b[32m━━━━━━━━━━━━━━━━━━━━\u001b[0m\u001b[37m\u001b[0m \u001b[1m317s\u001b[0m 399ms/step - accuracy: 0.4682 - loss: 1.5298 - val_accuracy: 0.4703 - val_loss: 1.5320\n",
      "Epoch 8/40\n",
      "\u001b[1m795/795\u001b[0m \u001b[32m━━━━━━━━━━━━━━━━━━━━\u001b[0m\u001b[37m\u001b[0m \u001b[1m306s\u001b[0m 385ms/step - accuracy: 0.4805 - loss: 1.4961 - val_accuracy: 0.4803 - val_loss: 1.5082\n",
      "Epoch 9/40\n",
      "\u001b[1m795/795\u001b[0m \u001b[32m━━━━━━━━━━━━━━━━━━━━\u001b[0m\u001b[37m\u001b[0m \u001b[1m321s\u001b[0m 404ms/step - accuracy: 0.4923 - loss: 1.4599 - val_accuracy: 0.4858 - val_loss: 1.4960\n",
      "Epoch 10/40\n",
      "\u001b[1m795/795\u001b[0m \u001b[32m━━━━━━━━━━━━━━━━━━━━\u001b[0m\u001b[37m\u001b[0m \u001b[1m353s\u001b[0m 444ms/step - accuracy: 0.5111 - loss: 1.4074 - val_accuracy: 0.4868 - val_loss: 1.4811\n",
      "Epoch 11/40\n",
      "\u001b[1m795/795\u001b[0m \u001b[32m━━━━━━━━━━━━━━━━━━━━\u001b[0m\u001b[37m\u001b[0m \u001b[1m363s\u001b[0m 457ms/step - accuracy: 0.5283 - loss: 1.3631 - val_accuracy: 0.4877 - val_loss: 1.4784\n",
      "Epoch 12/40\n",
      "\u001b[1m795/795\u001b[0m \u001b[32m━━━━━━━━━━━━━━━━━━━━\u001b[0m\u001b[37m\u001b[0m \u001b[1m308s\u001b[0m 387ms/step - accuracy: 0.5368 - loss: 1.3348 - val_accuracy: 0.4915 - val_loss: 1.4694\n",
      "Epoch 13/40\n",
      "\u001b[1m795/795\u001b[0m \u001b[32m━━━━━━━━━━━━━━━━━━━━\u001b[0m\u001b[37m\u001b[0m \u001b[1m299s\u001b[0m 376ms/step - accuracy: 0.5395 - loss: 1.3199 - val_accuracy: 0.4918 - val_loss: 1.4771\n",
      "Epoch 14/40\n",
      "\u001b[1m795/795\u001b[0m \u001b[32m━━━━━━━━━━━━━━━━━━━━\u001b[0m\u001b[37m\u001b[0m \u001b[1m299s\u001b[0m 376ms/step - accuracy: 0.5596 - loss: 1.2703 - val_accuracy: 0.4976 - val_loss: 1.4610\n",
      "Epoch 15/40\n",
      "\u001b[1m795/795\u001b[0m \u001b[32m━━━━━━━━━━━━━━━━━━━━\u001b[0m\u001b[37m\u001b[0m \u001b[1m301s\u001b[0m 378ms/step - accuracy: 0.5642 - loss: 1.2570 - val_accuracy: 0.5005 - val_loss: 1.4577\n",
      "Epoch 16/40\n",
      "\u001b[1m795/795\u001b[0m \u001b[32m━━━━━━━━━━━━━━━━━━━━\u001b[0m\u001b[37m\u001b[0m \u001b[1m309s\u001b[0m 389ms/step - accuracy: 0.5738 - loss: 1.2390 - val_accuracy: 0.5036 - val_loss: 1.4601\n",
      "Epoch 17/40\n",
      "\u001b[1m795/795\u001b[0m \u001b[32m━━━━━━━━━━━━━━━━━━━━\u001b[0m\u001b[37m\u001b[0m \u001b[1m305s\u001b[0m 384ms/step - accuracy: 0.5813 - loss: 1.2033 - val_accuracy: 0.5016 - val_loss: 1.4514\n",
      "Epoch 18/40\n",
      "\u001b[1m795/795\u001b[0m \u001b[32m━━━━━━━━━━━━━━━━━━━━\u001b[0m\u001b[37m\u001b[0m \u001b[1m307s\u001b[0m 386ms/step - accuracy: 0.5894 - loss: 1.1868 - val_accuracy: 0.5071 - val_loss: 1.4567\n",
      "Epoch 19/40\n",
      "\u001b[1m795/795\u001b[0m \u001b[32m━━━━━━━━━━━━━━━━━━━━\u001b[0m\u001b[37m\u001b[0m \u001b[1m301s\u001b[0m 379ms/step - accuracy: 0.5954 - loss: 1.1659 - val_accuracy: 0.5123 - val_loss: 1.4579\n",
      "Epoch 20/40\n",
      "\u001b[1m795/795\u001b[0m \u001b[32m━━━━━━━━━━━━━━━━━━━━\u001b[0m\u001b[37m\u001b[0m \u001b[1m309s\u001b[0m 388ms/step - accuracy: 0.6130 - loss: 1.1255 - val_accuracy: 0.5094 - val_loss: 1.4539\n",
      "Epoch 21/40\n",
      "\u001b[1m795/795\u001b[0m \u001b[32m━━━━━━━━━━━━━━━━━━━━\u001b[0m\u001b[37m\u001b[0m \u001b[1m302s\u001b[0m 379ms/step - accuracy: 0.6204 - loss: 1.0977 - val_accuracy: 0.5118 - val_loss: 1.4546\n",
      "Epoch 22/40\n",
      "\u001b[1m795/795\u001b[0m \u001b[32m━━━━━━━━━━━━━━━━━━━━\u001b[0m\u001b[37m\u001b[0m \u001b[1m301s\u001b[0m 379ms/step - accuracy: 0.6282 - loss: 1.0682 - val_accuracy: 0.5099 - val_loss: 1.4558\n",
      "Epoch 23/40\n",
      "\u001b[1m795/795\u001b[0m \u001b[32m━━━━━━━━━━━━━━━━━━━━\u001b[0m\u001b[37m\u001b[0m \u001b[1m321s\u001b[0m 404ms/step - accuracy: 0.6323 - loss: 1.0503 - val_accuracy: 0.5101 - val_loss: 1.4758\n",
      "Epoch 24/40\n",
      "\u001b[1m795/795\u001b[0m \u001b[32m━━━━━━━━━━━━━━━━━━━━\u001b[0m\u001b[37m\u001b[0m \u001b[1m305s\u001b[0m 384ms/step - accuracy: 0.6481 - loss: 1.0322 - val_accuracy: 0.5096 - val_loss: 1.4822\n",
      "Epoch 25/40\n",
      "\u001b[1m795/795\u001b[0m \u001b[32m━━━━━━━━━━━━━━━━━━━━\u001b[0m\u001b[37m\u001b[0m \u001b[1m315s\u001b[0m 396ms/step - accuracy: 0.6492 - loss: 1.0099 - val_accuracy: 0.5047 - val_loss: 1.4882\n",
      "Epoch 26/40\n",
      "\u001b[1m795/795\u001b[0m \u001b[32m━━━━━━━━━━━━━━━━━━━━\u001b[0m\u001b[37m\u001b[0m \u001b[1m306s\u001b[0m 385ms/step - accuracy: 0.6636 - loss: 0.9761 - val_accuracy: 0.5104 - val_loss: 1.4823\n",
      "Epoch 27/40\n",
      "\u001b[1m795/795\u001b[0m \u001b[32m━━━━━━━━━━━━━━━━━━━━\u001b[0m\u001b[37m\u001b[0m \u001b[1m308s\u001b[0m 388ms/step - accuracy: 0.6682 - loss: 0.9644 - val_accuracy: 0.5154 - val_loss: 1.4936\n",
      "Epoch 28/40\n",
      "\u001b[1m795/795\u001b[0m \u001b[32m━━━━━━━━━━━━━━━━━━━━\u001b[0m\u001b[37m\u001b[0m \u001b[1m314s\u001b[0m 395ms/step - accuracy: 0.6714 - loss: 0.9452 - val_accuracy: 0.5135 - val_loss: 1.5023\n",
      "Epoch 29/40\n",
      "\u001b[1m795/795\u001b[0m \u001b[32m━━━━━━━━━━━━━━━━━━━━\u001b[0m\u001b[37m\u001b[0m \u001b[1m321s\u001b[0m 404ms/step - accuracy: 0.6759 - loss: 0.9325 - val_accuracy: 0.5028 - val_loss: 1.5051\n",
      "Epoch 30/40\n",
      "\u001b[1m795/795\u001b[0m \u001b[32m━━━━━━━━━━━━━━━━━━━━\u001b[0m\u001b[37m\u001b[0m \u001b[1m313s\u001b[0m 394ms/step - accuracy: 0.6803 - loss: 0.9131 - val_accuracy: 0.5124 - val_loss: 1.5108\n",
      "Epoch 31/40\n",
      "\u001b[1m795/795\u001b[0m \u001b[32m━━━━━━━━━━━━━━━━━━━━\u001b[0m\u001b[37m\u001b[0m \u001b[1m314s\u001b[0m 395ms/step - accuracy: 0.6918 - loss: 0.8861 - val_accuracy: 0.5096 - val_loss: 1.5121\n",
      "Epoch 32/40\n",
      "\u001b[1m795/795\u001b[0m \u001b[32m━━━━━━━━━━━━━━━━━━━━\u001b[0m\u001b[37m\u001b[0m \u001b[1m310s\u001b[0m 390ms/step - accuracy: 0.7005 - loss: 0.8713 - val_accuracy: 0.5088 - val_loss: 1.5306\n",
      "Epoch 33/40\n",
      "\u001b[1m795/795\u001b[0m \u001b[32m━━━━━━━━━━━━━━━━━━━━\u001b[0m\u001b[37m\u001b[0m \u001b[1m317s\u001b[0m 398ms/step - accuracy: 0.7061 - loss: 0.8516 - val_accuracy: 0.5083 - val_loss: 1.5325\n",
      "Epoch 34/40\n",
      "\u001b[1m795/795\u001b[0m \u001b[32m━━━━━━━━━━━━━━━━━━━━\u001b[0m\u001b[37m\u001b[0m \u001b[1m319s\u001b[0m 401ms/step - accuracy: 0.7080 - loss: 0.8448 - val_accuracy: 0.5104 - val_loss: 1.5467\n",
      "Epoch 35/40\n",
      "\u001b[1m795/795\u001b[0m \u001b[32m━━━━━━━━━━━━━━━━━━━━\u001b[0m\u001b[37m\u001b[0m \u001b[1m322s\u001b[0m 406ms/step - accuracy: 0.7184 - loss: 0.8177 - val_accuracy: 0.5069 - val_loss: 1.5647\n",
      "Epoch 36/40\n",
      "\u001b[1m795/795\u001b[0m \u001b[32m━━━━━━━━━━━━━━━━━━━━\u001b[0m\u001b[37m\u001b[0m \u001b[1m303s\u001b[0m 381ms/step - accuracy: 0.7166 - loss: 0.8181 - val_accuracy: 0.5137 - val_loss: 1.5749\n",
      "Epoch 37/40\n",
      "\u001b[1m795/795\u001b[0m \u001b[32m━━━━━━━━━━━━━━━━━━━━\u001b[0m\u001b[37m\u001b[0m \u001b[1m307s\u001b[0m 386ms/step - accuracy: 0.7304 - loss: 0.7835 - val_accuracy: 0.5085 - val_loss: 1.5910\n"
     ]
    }
   ],
   "source": [
    "history = model.fit(\n",
    "    X_train, y_train,\n",
    "    validation_data=(X_test, y_test),\n",
    "    epochs=40,\n",
    "    batch_size=32,\n",
    "    callbacks=[checkpoint, early_stopping]\n",
    ")"
   ]
  },
  {
   "cell_type": "code",
   "execution_count": 65,
   "metadata": {},
   "outputs": [
    {
     "name": "stdout",
     "output_type": "stream",
     "text": [
      "\u001b[1m199/199\u001b[0m \u001b[32m━━━━━━━━━━━━━━━━━━━━\u001b[0m\u001b[37m\u001b[0m \u001b[1m61s\u001b[0m 307ms/step - accuracy: 0.5101 - loss: 1.4994\n",
      "Test accuracy: 0.5154088139533997\n"
     ]
    }
   ],
   "source": [
    "loss, accuracy = model.evaluate(X_test, y_test, verbose=1)\n",
    "print(f'Test accuracy: {accuracy}')"
   ]
  },
  {
   "cell_type": "code",
   "execution_count": 66,
   "metadata": {},
   "outputs": [
    {
     "name": "stdout",
     "output_type": "stream",
     "text": [
      "\u001b[1m199/199\u001b[0m \u001b[32m━━━━━━━━━━━━━━━━━━━━\u001b[0m\u001b[37m\u001b[0m \u001b[1m54s\u001b[0m 266ms/step\n",
      "Classification Report:\n",
      "              precision    recall  f1-score   support\n",
      "\n",
      "      Others       0.49      0.48      0.48       894\n",
      "       Honda       0.44      0.34      0.39       554\n",
      "     Hyundai       0.48      0.45      0.47       618\n",
      "         KIA       0.51      0.30      0.38       506\n",
      "       Mazda       0.48      0.60      0.53       598\n",
      "  Mitsubishi       0.37      0.37      0.37       538\n",
      "      Toyota       0.47      0.58      0.52      1018\n",
      "      Suzuki       0.70      0.71      0.71      1193\n",
      "     Vinfast       0.56      0.54      0.55       441\n",
      "\n",
      "    accuracy                           0.52      6360\n",
      "   macro avg       0.50      0.48      0.49      6360\n",
      "weighted avg       0.52      0.52      0.51      6360\n",
      "\n"
     ]
    }
   ],
   "source": [
    "y_pred = model.predict(X_test).argmax(axis=1)\n",
    "y_test_labels = y_test.argmax(axis=1)\n",
    "print(\"Classification Report:\")\n",
    "print(classification_report(y_test_labels, y_pred, target_names=list(tag_mapping.keys())))"
   ]
  },
  {
   "cell_type": "markdown",
   "metadata": {},
   "source": [
    "# Second: Freezing earlier layers\n",
    "* Freeze first 100 layers\n",
    "* Learning rate: 0.00001"
   ]
  },
  {
   "cell_type": "code",
   "execution_count": 67,
   "metadata": {},
   "outputs": [],
   "source": [
    "for layer in base_model.layers[:100]:  # Freeze the first 100 layers\n",
    "    layer.trainable = False"
   ]
  },
  {
   "cell_type": "code",
   "execution_count": 68,
   "metadata": {},
   "outputs": [],
   "source": [
    "model = Sequential([\n",
    "    base_model,\n",
    "    Flatten(),\n",
    "    Dense(256, activation='relu'),\n",
    "    BatchNormalization(),\n",
    "    Dropout(0.3),\n",
    "    Dense(128, activation='relu'),\n",
    "    BatchNormalization(),\n",
    "    Dropout(0.2),\n",
    "    Dense(len(tag_mapping), activation='softmax')\n",
    "])"
   ]
  },
  {
   "cell_type": "code",
   "execution_count": 69,
   "metadata": {},
   "outputs": [],
   "source": [
    "model.compile(optimizer=Adam(learning_rate=0.00001), loss='categorical_crossentropy', metrics=['accuracy'])"
   ]
  },
  {
   "cell_type": "code",
   "execution_count": 70,
   "metadata": {},
   "outputs": [],
   "source": [
    "checkpoint = ModelCheckpoint('best_car_brand_model_1601_1.keras', monitor='val_accuracy', save_best_only=True)\n",
    "early_stopping = EarlyStopping(monitor='val_accuracy', patience=10, restore_best_weights=True)"
   ]
  },
  {
   "cell_type": "code",
   "execution_count": 71,
   "metadata": {},
   "outputs": [
    {
     "name": "stdout",
     "output_type": "stream",
     "text": [
      "Epoch 1/40\n",
      "\u001b[1m795/795\u001b[0m \u001b[32m━━━━━━━━━━━━━━━━━━━━\u001b[0m\u001b[37m\u001b[0m \u001b[1m305s\u001b[0m 375ms/step - accuracy: 0.1205 - loss: 2.9536 - val_accuracy: 0.1890 - val_loss: 2.4057\n",
      "Epoch 2/40\n",
      "\u001b[1m795/795\u001b[0m \u001b[32m━━━━━━━━━━━━━━━━━━━━\u001b[0m\u001b[37m\u001b[0m \u001b[1m278s\u001b[0m 350ms/step - accuracy: 0.1784 - loss: 2.6321 - val_accuracy: 0.2384 - val_loss: 2.2341\n",
      "Epoch 3/40\n",
      "\u001b[1m795/795\u001b[0m \u001b[32m━━━━━━━━━━━━━━━━━━━━\u001b[0m\u001b[37m\u001b[0m \u001b[1m273s\u001b[0m 343ms/step - accuracy: 0.2156 - loss: 2.4618 - val_accuracy: 0.2698 - val_loss: 2.1345\n",
      "Epoch 4/40\n",
      "\u001b[1m795/795\u001b[0m \u001b[32m━━━━━━━━━━━━━━━━━━━━\u001b[0m\u001b[37m\u001b[0m \u001b[1m273s\u001b[0m 343ms/step - accuracy: 0.2434 - loss: 2.3382 - val_accuracy: 0.2895 - val_loss: 2.0645\n",
      "Epoch 5/40\n",
      "\u001b[1m795/795\u001b[0m \u001b[32m━━━━━━━━━━━━━━━━━━━━\u001b[0m\u001b[37m\u001b[0m \u001b[1m273s\u001b[0m 343ms/step - accuracy: 0.2656 - loss: 2.2702 - val_accuracy: 0.3093 - val_loss: 2.0022\n",
      "Epoch 6/40\n",
      "\u001b[1m795/795\u001b[0m \u001b[32m━━━━━━━━━━━━━━━━━━━━\u001b[0m\u001b[37m\u001b[0m \u001b[1m273s\u001b[0m 343ms/step - accuracy: 0.2710 - loss: 2.2055 - val_accuracy: 0.3182 - val_loss: 1.9660\n",
      "Epoch 7/40\n",
      "\u001b[1m795/795\u001b[0m \u001b[32m━━━━━━━━━━━━━━━━━━━━\u001b[0m\u001b[37m\u001b[0m \u001b[1m274s\u001b[0m 345ms/step - accuracy: 0.2884 - loss: 2.1666 - val_accuracy: 0.3311 - val_loss: 1.9271\n",
      "Epoch 8/40\n",
      "\u001b[1m795/795\u001b[0m \u001b[32m━━━━━━━━━━━━━━━━━━━━\u001b[0m\u001b[37m\u001b[0m \u001b[1m277s\u001b[0m 348ms/step - accuracy: 0.3040 - loss: 2.1068 - val_accuracy: 0.3429 - val_loss: 1.8975\n",
      "Epoch 9/40\n",
      "\u001b[1m795/795\u001b[0m \u001b[32m━━━━━━━━━━━━━━━━━━━━\u001b[0m\u001b[37m\u001b[0m \u001b[1m279s\u001b[0m 351ms/step - accuracy: 0.3068 - loss: 2.0708 - val_accuracy: 0.3536 - val_loss: 1.8733\n",
      "Epoch 10/40\n",
      "\u001b[1m795/795\u001b[0m \u001b[32m━━━━━━━━━━━━━━━━━━━━\u001b[0m\u001b[37m\u001b[0m \u001b[1m280s\u001b[0m 352ms/step - accuracy: 0.3164 - loss: 2.0431 - val_accuracy: 0.3586 - val_loss: 1.8480\n",
      "Epoch 11/40\n",
      "\u001b[1m795/795\u001b[0m \u001b[32m━━━━━━━━━━━━━━━━━━━━\u001b[0m\u001b[37m\u001b[0m \u001b[1m279s\u001b[0m 351ms/step - accuracy: 0.3192 - loss: 2.0161 - val_accuracy: 0.3692 - val_loss: 1.8237\n",
      "Epoch 12/40\n",
      "\u001b[1m795/795\u001b[0m \u001b[32m━━━━━━━━━━━━━━━━━━━━\u001b[0m\u001b[37m\u001b[0m \u001b[1m278s\u001b[0m 350ms/step - accuracy: 0.3375 - loss: 1.9667 - val_accuracy: 0.3741 - val_loss: 1.8092\n",
      "Epoch 13/40\n",
      "\u001b[1m795/795\u001b[0m \u001b[32m━━━━━━━━━━━━━━━━━━━━\u001b[0m\u001b[37m\u001b[0m \u001b[1m283s\u001b[0m 356ms/step - accuracy: 0.3377 - loss: 1.9502 - val_accuracy: 0.3769 - val_loss: 1.7961\n",
      "Epoch 14/40\n",
      "\u001b[1m795/795\u001b[0m \u001b[32m━━━━━━━━━━━━━━━━━━━━\u001b[0m\u001b[37m\u001b[0m \u001b[1m318s\u001b[0m 351ms/step - accuracy: 0.3460 - loss: 1.9304 - val_accuracy: 0.3838 - val_loss: 1.7799\n",
      "Epoch 15/40\n",
      "\u001b[1m795/795\u001b[0m \u001b[32m━━━━━━━━━━━━━━━━━━━━\u001b[0m\u001b[37m\u001b[0m \u001b[1m285s\u001b[0m 358ms/step - accuracy: 0.3557 - loss: 1.9010 - val_accuracy: 0.3895 - val_loss: 1.7663\n",
      "Epoch 16/40\n",
      "\u001b[1m795/795\u001b[0m \u001b[32m━━━━━━━━━━━━━━━━━━━━\u001b[0m\u001b[37m\u001b[0m \u001b[1m280s\u001b[0m 352ms/step - accuracy: 0.3565 - loss: 1.8724 - val_accuracy: 0.3940 - val_loss: 1.7549\n",
      "Epoch 17/40\n",
      "\u001b[1m795/795\u001b[0m \u001b[32m━━━━━━━━━━━━━━━━━━━━\u001b[0m\u001b[37m\u001b[0m \u001b[1m293s\u001b[0m 368ms/step - accuracy: 0.3628 - loss: 1.8583 - val_accuracy: 0.3994 - val_loss: 1.7406\n",
      "Epoch 18/40\n",
      "\u001b[1m795/795\u001b[0m \u001b[32m━━━━━━━━━━━━━━━━━━━━\u001b[0m\u001b[37m\u001b[0m \u001b[1m279s\u001b[0m 351ms/step - accuracy: 0.3671 - loss: 1.8539 - val_accuracy: 0.4027 - val_loss: 1.7320\n",
      "Epoch 19/40\n",
      "\u001b[1m795/795\u001b[0m \u001b[32m━━━━━━━━━━━━━━━━━━━━\u001b[0m\u001b[37m\u001b[0m \u001b[1m278s\u001b[0m 349ms/step - accuracy: 0.3728 - loss: 1.8102 - val_accuracy: 0.4060 - val_loss: 1.7223\n",
      "Epoch 20/40\n",
      "\u001b[1m795/795\u001b[0m \u001b[32m━━━━━━━━━━━━━━━━━━━━\u001b[0m\u001b[37m\u001b[0m \u001b[1m278s\u001b[0m 349ms/step - accuracy: 0.3802 - loss: 1.8033 - val_accuracy: 0.4075 - val_loss: 1.7129\n",
      "Epoch 21/40\n",
      "\u001b[1m795/795\u001b[0m \u001b[32m━━━━━━━━━━━━━━━━━━━━\u001b[0m\u001b[37m\u001b[0m \u001b[1m278s\u001b[0m 349ms/step - accuracy: 0.3828 - loss: 1.7802 - val_accuracy: 0.4123 - val_loss: 1.7020\n",
      "Epoch 22/40\n",
      "\u001b[1m795/795\u001b[0m \u001b[32m━━━━━━━━━━━━━━━━━━━━\u001b[0m\u001b[37m\u001b[0m \u001b[1m318s\u001b[0m 344ms/step - accuracy: 0.3857 - loss: 1.7726 - val_accuracy: 0.4170 - val_loss: 1.6954\n",
      "Epoch 23/40\n",
      "\u001b[1m795/795\u001b[0m \u001b[32m━━━━━━━━━━━━━━━━━━━━\u001b[0m\u001b[37m\u001b[0m \u001b[1m279s\u001b[0m 350ms/step - accuracy: 0.3890 - loss: 1.7651 - val_accuracy: 0.4160 - val_loss: 1.6886\n",
      "Epoch 24/40\n",
      "\u001b[1m795/795\u001b[0m \u001b[32m━━━━━━━━━━━━━━━━━━━━\u001b[0m\u001b[37m\u001b[0m \u001b[1m279s\u001b[0m 350ms/step - accuracy: 0.3966 - loss: 1.7544 - val_accuracy: 0.4176 - val_loss: 1.6828\n",
      "Epoch 25/40\n",
      "\u001b[1m795/795\u001b[0m \u001b[32m━━━━━━━━━━━━━━━━━━━━\u001b[0m\u001b[37m\u001b[0m \u001b[1m278s\u001b[0m 349ms/step - accuracy: 0.4017 - loss: 1.7398 - val_accuracy: 0.4189 - val_loss: 1.6741\n",
      "Epoch 26/40\n",
      "\u001b[1m795/795\u001b[0m \u001b[32m━━━━━━━━━━━━━━━━━━━━\u001b[0m\u001b[37m\u001b[0m \u001b[1m279s\u001b[0m 351ms/step - accuracy: 0.4053 - loss: 1.7257 - val_accuracy: 0.4215 - val_loss: 1.6664\n",
      "Epoch 27/40\n",
      "\u001b[1m795/795\u001b[0m \u001b[32m━━━━━━━━━━━━━━━━━━━━\u001b[0m\u001b[37m\u001b[0m \u001b[1m278s\u001b[0m 350ms/step - accuracy: 0.4037 - loss: 1.7083 - val_accuracy: 0.4219 - val_loss: 1.6597\n",
      "Epoch 28/40\n",
      "\u001b[1m795/795\u001b[0m \u001b[32m━━━━━━━━━━━━━━━━━━━━\u001b[0m\u001b[37m\u001b[0m \u001b[1m280s\u001b[0m 352ms/step - accuracy: 0.4114 - loss: 1.6989 - val_accuracy: 0.4248 - val_loss: 1.6528\n",
      "Epoch 29/40\n",
      "\u001b[1m795/795\u001b[0m \u001b[32m━━━━━━━━━━━━━━━━━━━━\u001b[0m\u001b[37m\u001b[0m \u001b[1m278s\u001b[0m 350ms/step - accuracy: 0.4149 - loss: 1.6774 - val_accuracy: 0.4255 - val_loss: 1.6477\n",
      "Epoch 30/40\n",
      "\u001b[1m795/795\u001b[0m \u001b[32m━━━━━━━━━━━━━━━━━━━━\u001b[0m\u001b[37m\u001b[0m \u001b[1m281s\u001b[0m 354ms/step - accuracy: 0.4185 - loss: 1.6725 - val_accuracy: 0.4264 - val_loss: 1.6425\n",
      "Epoch 31/40\n",
      "\u001b[1m795/795\u001b[0m \u001b[32m━━━━━━━━━━━━━━━━━━━━\u001b[0m\u001b[37m\u001b[0m \u001b[1m281s\u001b[0m 353ms/step - accuracy: 0.4225 - loss: 1.6743 - val_accuracy: 0.4278 - val_loss: 1.6362\n",
      "Epoch 32/40\n",
      "\u001b[1m795/795\u001b[0m \u001b[32m━━━━━━━━━━━━━━━━━━━━\u001b[0m\u001b[37m\u001b[0m \u001b[1m283s\u001b[0m 356ms/step - accuracy: 0.4283 - loss: 1.6605 - val_accuracy: 0.4313 - val_loss: 1.6346\n",
      "Epoch 33/40\n",
      "\u001b[1m795/795\u001b[0m \u001b[32m━━━━━━━━━━━━━━━━━━━━\u001b[0m\u001b[37m\u001b[0m \u001b[1m282s\u001b[0m 355ms/step - accuracy: 0.4316 - loss: 1.6380 - val_accuracy: 0.4333 - val_loss: 1.6287\n",
      "Epoch 34/40\n",
      "\u001b[1m795/795\u001b[0m \u001b[32m━━━━━━━━━━━━━━━━━━━━\u001b[0m\u001b[37m\u001b[0m \u001b[1m283s\u001b[0m 355ms/step - accuracy: 0.4346 - loss: 1.6411 - val_accuracy: 0.4368 - val_loss: 1.6238\n",
      "Epoch 35/40\n",
      "\u001b[1m795/795\u001b[0m \u001b[32m━━━━━━━━━━━━━━━━━━━━\u001b[0m\u001b[37m\u001b[0m \u001b[1m283s\u001b[0m 356ms/step - accuracy: 0.4360 - loss: 1.6350 - val_accuracy: 0.4366 - val_loss: 1.6194\n",
      "Epoch 36/40\n",
      "\u001b[1m795/795\u001b[0m \u001b[32m━━━━━━━━━━━━━━━━━━━━\u001b[0m\u001b[37m\u001b[0m \u001b[1m285s\u001b[0m 358ms/step - accuracy: 0.4366 - loss: 1.6120 - val_accuracy: 0.4410 - val_loss: 1.6142\n",
      "Epoch 37/40\n",
      "\u001b[1m795/795\u001b[0m \u001b[32m━━━━━━━━━━━━━━━━━━━━\u001b[0m\u001b[37m\u001b[0m \u001b[1m284s\u001b[0m 357ms/step - accuracy: 0.4507 - loss: 1.5946 - val_accuracy: 0.4432 - val_loss: 1.6119\n",
      "Epoch 38/40\n",
      "\u001b[1m795/795\u001b[0m \u001b[32m━━━━━━━━━━━━━━━━━━━━\u001b[0m\u001b[37m\u001b[0m \u001b[1m285s\u001b[0m 359ms/step - accuracy: 0.4411 - loss: 1.6041 - val_accuracy: 0.4458 - val_loss: 1.6080\n",
      "Epoch 39/40\n",
      "\u001b[1m795/795\u001b[0m \u001b[32m━━━━━━━━━━━━━━━━━━━━\u001b[0m\u001b[37m\u001b[0m \u001b[1m284s\u001b[0m 357ms/step - accuracy: 0.4538 - loss: 1.5754 - val_accuracy: 0.4462 - val_loss: 1.6031\n",
      "Epoch 40/40\n",
      "\u001b[1m795/795\u001b[0m \u001b[32m━━━━━━━━━━━━━━━━━━━━\u001b[0m\u001b[37m\u001b[0m \u001b[1m288s\u001b[0m 362ms/step - accuracy: 0.4510 - loss: 1.5781 - val_accuracy: 0.4484 - val_loss: 1.6012\n"
     ]
    }
   ],
   "source": [
    "history = model.fit(\n",
    "    X_train, y_train,\n",
    "    validation_data=(X_test, y_test),\n",
    "    epochs=40,\n",
    "    batch_size=32,\n",
    "    callbacks=[checkpoint, early_stopping]\n",
    ")"
   ]
  },
  {
   "cell_type": "code",
   "execution_count": 72,
   "metadata": {},
   "outputs": [
    {
     "name": "stdout",
     "output_type": "stream",
     "text": [
      "\u001b[1m199/199\u001b[0m \u001b[32m━━━━━━━━━━━━━━━━━━━━\u001b[0m\u001b[37m\u001b[0m \u001b[1m57s\u001b[0m 285ms/step - accuracy: 0.4465 - loss: 1.5979\n",
      "Test accuracy: 0.448427677154541\n"
     ]
    }
   ],
   "source": [
    "loss, accuracy = model.evaluate(X_test, y_test, verbose=1)\n",
    "print(f'Test accuracy: {accuracy}')"
   ]
  },
  {
   "cell_type": "code",
   "execution_count": 73,
   "metadata": {},
   "outputs": [
    {
     "name": "stdout",
     "output_type": "stream",
     "text": [
      "\u001b[1m199/199\u001b[0m \u001b[32m━━━━━━━━━━━━━━━━━━━━\u001b[0m\u001b[37m\u001b[0m \u001b[1m56s\u001b[0m 280ms/step\n",
      "Classification Report:\n",
      "              precision    recall  f1-score   support\n",
      "\n",
      "      Others       0.39      0.48      0.43       894\n",
      "       Honda       0.35      0.35      0.35       554\n",
      "     Hyundai       0.40      0.33      0.37       618\n",
      "         KIA       0.43      0.21      0.28       506\n",
      "       Mazda       0.44      0.45      0.44       598\n",
      "  Mitsubishi       0.33      0.32      0.32       538\n",
      "      Toyota       0.44      0.45      0.45      1018\n",
      "      Suzuki       0.61      0.70      0.65      1193\n",
      "     Vinfast       0.44      0.42      0.43       441\n",
      "\n",
      "    accuracy                           0.45      6360\n",
      "   macro avg       0.43      0.41      0.41      6360\n",
      "weighted avg       0.44      0.45      0.44      6360\n",
      "\n"
     ]
    }
   ],
   "source": [
    "y_pred = model.predict(X_test).argmax(axis=1)\n",
    "y_test_labels = y_test.argmax(axis=1)\n",
    "print(\"Classification Report:\")\n",
    "print(classification_report(y_test_labels, y_pred, target_names=list(tag_mapping.keys())))"
   ]
  },
  {
   "cell_type": "markdown",
   "metadata": {},
   "source": [
    "# Third (Final Model)\n",
    "* Class Weighting\n",
    "* base_model.trainable=True\n",
    "* Freeze first 100 layers\n",
    "* Learning rate: 0.00001"
   ]
  },
  {
   "cell_type": "code",
   "execution_count": 88,
   "metadata": {},
   "outputs": [],
   "source": [
    "from sklearn.utils.class_weight import compute_class_weight\n",
    "from tensorflow.keras.models import load_model"
   ]
  },
  {
   "cell_type": "code",
   "execution_count": 75,
   "metadata": {},
   "outputs": [],
   "source": [
    "class_weights = compute_class_weight(\n",
    "    class_weight='balanced',\n",
    "    classes=np.arange(len(tag_mapping)),\n",
    "    y=data['Label'].values\n",
    ")"
   ]
  },
  {
   "cell_type": "code",
   "execution_count": 146,
   "metadata": {},
   "outputs": [
    {
     "name": "stdout",
     "output_type": "stream",
     "text": [
      "Class weights:\n",
      "Class 0: Weight 0.7905820342607096\n",
      "Class 1: Weight 1.2759520083463745\n",
      "Class 2: Weight 1.1441421991940126\n",
      "Class 3: Weight 1.3970387944290672\n",
      "Class 4: Weight 1.182037842459388\n",
      "Class 5: Weight 1.3139126482376762\n",
      "Class 6: Weight 0.6938552849786157\n",
      "Class 7: Weight 0.5923069758778057\n",
      "Class 8: Weight 1.6001409017713366\n"
     ]
    }
   ],
   "source": [
    "print(\"Class weights:\")\n",
    "for class_index, weight in class_weights.items():\n",
    "    print(f\"Class {class_index}: Weight {weight}\")"
   ]
  },
  {
   "cell_type": "code",
   "execution_count": 76,
   "metadata": {},
   "outputs": [],
   "source": [
    "class_weights = {i: weight for i, weight in enumerate(class_weights)}"
   ]
  },
  {
   "cell_type": "code",
   "execution_count": 77,
   "metadata": {},
   "outputs": [],
   "source": [
    "base_model = MobileNetV2(weights='imagenet', include_top=False, input_shape=(224, 224, 3), pooling='avg')\n",
    "base_model.trainable = True"
   ]
  },
  {
   "cell_type": "code",
   "execution_count": 78,
   "metadata": {},
   "outputs": [],
   "source": [
    "for layer in base_model.layers[:100]:  # Freeze the first 100 layers\n",
    "    layer.trainable = False\n"
   ]
  },
  {
   "cell_type": "code",
   "execution_count": 79,
   "metadata": {},
   "outputs": [],
   "source": [
    "model = Sequential([\n",
    "    base_model,\n",
    "    Flatten(),\n",
    "    Dense(256, activation='relu'),\n",
    "    BatchNormalization(),\n",
    "    Dropout(0.3),\n",
    "    Dense(128, activation='relu'),\n",
    "    BatchNormalization(),\n",
    "    Dropout(0.2),\n",
    "    Dense(len(tag_mapping), activation='softmax')\n",
    "])"
   ]
  },
  {
   "cell_type": "code",
   "execution_count": 80,
   "metadata": {},
   "outputs": [],
   "source": [
    "model.compile(optimizer=Adam(learning_rate=0.00001), loss='categorical_crossentropy', metrics=['accuracy'])"
   ]
  },
  {
   "cell_type": "code",
   "execution_count": 82,
   "metadata": {},
   "outputs": [],
   "source": [
    "checkpoint = ModelCheckpoint('best_car_brand_model_classweight.keras', monitor='val_accuracy', save_best_only=True)\n",
    "early_stopping = EarlyStopping(monitor='val_accuracy', patience=7, restore_best_weights=True)"
   ]
  },
  {
   "cell_type": "code",
   "execution_count": 83,
   "metadata": {},
   "outputs": [
    {
     "name": "stdout",
     "output_type": "stream",
     "text": [
      "Epoch 1/40\n",
      "\u001b[1m795/795\u001b[0m \u001b[32m━━━━━━━━━━━━━━━━━━━━\u001b[0m\u001b[37m\u001b[0m \u001b[1m637s\u001b[0m 786ms/step - accuracy: 0.1391 - loss: 2.9155 - val_accuracy: 0.2299 - val_loss: 2.2843\n",
      "Epoch 2/40\n",
      "\u001b[1m795/795\u001b[0m \u001b[32m━━━━━━━━━━━━━━━━━━━━\u001b[0m\u001b[37m\u001b[0m \u001b[1m560s\u001b[0m 704ms/step - accuracy: 0.2152 - loss: 2.4708 - val_accuracy: 0.3052 - val_loss: 2.0430\n",
      "Epoch 3/40\n",
      "\u001b[1m795/795\u001b[0m \u001b[32m━━━━━━━━━━━━━━━━━━━━\u001b[0m\u001b[37m\u001b[0m \u001b[1m551s\u001b[0m 693ms/step - accuracy: 0.2725 - loss: 2.2227 - val_accuracy: 0.3385 - val_loss: 1.9297\n",
      "Epoch 4/40\n",
      "\u001b[1m795/795\u001b[0m \u001b[32m━━━━━━━━━━━━━━━━━━━━\u001b[0m\u001b[37m\u001b[0m \u001b[1m593s\u001b[0m 746ms/step - accuracy: 0.3143 - loss: 2.0538 - val_accuracy: 0.3678 - val_loss: 1.8424\n",
      "Epoch 5/40\n",
      "\u001b[1m795/795\u001b[0m \u001b[32m━━━━━━━━━━━━━━━━━━━━\u001b[0m\u001b[37m\u001b[0m \u001b[1m456s\u001b[0m 574ms/step - accuracy: 0.3613 - loss: 1.9007 - val_accuracy: 0.4057 - val_loss: 1.7637\n",
      "Epoch 6/40\n",
      "\u001b[1m795/795\u001b[0m \u001b[32m━━━━━━━━━━━━━━━━━━━━\u001b[0m\u001b[37m\u001b[0m \u001b[1m460s\u001b[0m 578ms/step - accuracy: 0.3863 - loss: 1.8010 - val_accuracy: 0.4280 - val_loss: 1.6950\n",
      "Epoch 7/40\n",
      "\u001b[1m795/795\u001b[0m \u001b[32m━━━━━━━━━━━━━━━━━━━━\u001b[0m\u001b[37m\u001b[0m \u001b[1m457s\u001b[0m 575ms/step - accuracy: 0.4268 - loss: 1.6760 - val_accuracy: 0.4410 - val_loss: 1.6533\n",
      "Epoch 8/40\n",
      "\u001b[1m795/795\u001b[0m \u001b[32m━━━━━━━━━━━━━━━━━━━━\u001b[0m\u001b[37m\u001b[0m \u001b[1m459s\u001b[0m 578ms/step - accuracy: 0.4505 - loss: 1.6041 - val_accuracy: 0.4522 - val_loss: 1.6108\n",
      "Epoch 9/40\n",
      "\u001b[1m795/795\u001b[0m \u001b[32m━━━━━━━━━━━━━━━━━━━━\u001b[0m\u001b[37m\u001b[0m \u001b[1m454s\u001b[0m 571ms/step - accuracy: 0.4798 - loss: 1.4837 - val_accuracy: 0.4730 - val_loss: 1.5623\n",
      "Epoch 10/40\n",
      "\u001b[1m795/795\u001b[0m \u001b[32m━━━━━━━━━━━━━━━━━━━━\u001b[0m\u001b[37m\u001b[0m \u001b[1m450s\u001b[0m 566ms/step - accuracy: 0.5065 - loss: 1.4075 - val_accuracy: 0.4851 - val_loss: 1.5166\n",
      "Epoch 11/40\n",
      "\u001b[1m795/795\u001b[0m \u001b[32m━━━━━━━━━━━━━━━━━━━━\u001b[0m\u001b[37m\u001b[0m \u001b[1m452s\u001b[0m 568ms/step - accuracy: 0.5364 - loss: 1.3369 - val_accuracy: 0.4961 - val_loss: 1.4760\n",
      "Epoch 12/40\n",
      "\u001b[1m795/795\u001b[0m \u001b[32m━━━━━━━━━━━━━━━━━━━━\u001b[0m\u001b[37m\u001b[0m \u001b[1m451s\u001b[0m 568ms/step - accuracy: 0.5519 - loss: 1.2695 - val_accuracy: 0.5157 - val_loss: 1.4453\n",
      "Epoch 13/40\n",
      "\u001b[1m795/795\u001b[0m \u001b[32m━━━━━━━━━━━━━━━━━━━━\u001b[0m\u001b[37m\u001b[0m \u001b[1m519s\u001b[0m 652ms/step - accuracy: 0.5762 - loss: 1.2037 - val_accuracy: 0.5245 - val_loss: 1.4035\n",
      "Epoch 14/40\n",
      "\u001b[1m795/795\u001b[0m \u001b[32m━━━━━━━━━━━━━━━━━━━━\u001b[0m\u001b[37m\u001b[0m \u001b[1m454s\u001b[0m 571ms/step - accuracy: 0.6005 - loss: 1.1128 - val_accuracy: 0.5333 - val_loss: 1.3794\n",
      "Epoch 15/40\n",
      "\u001b[1m795/795\u001b[0m \u001b[32m━━━━━━━━━━━━━━━━━━━━\u001b[0m\u001b[37m\u001b[0m \u001b[1m466s\u001b[0m 586ms/step - accuracy: 0.6194 - loss: 1.0762 - val_accuracy: 0.5443 - val_loss: 1.3548\n",
      "Epoch 16/40\n",
      "\u001b[1m795/795\u001b[0m \u001b[32m━━━━━━━━━━━━━━━━━━━━\u001b[0m\u001b[37m\u001b[0m \u001b[1m473s\u001b[0m 595ms/step - accuracy: 0.6403 - loss: 1.0044 - val_accuracy: 0.5498 - val_loss: 1.3468\n",
      "Epoch 17/40\n",
      "\u001b[1m795/795\u001b[0m \u001b[32m━━━━━━━━━━━━━━━━━━━━\u001b[0m\u001b[37m\u001b[0m \u001b[1m451s\u001b[0m 568ms/step - accuracy: 0.6633 - loss: 0.9416 - val_accuracy: 0.5566 - val_loss: 1.3316\n",
      "Epoch 18/40\n",
      "\u001b[1m795/795\u001b[0m \u001b[32m━━━━━━━━━━━━━━━━━━━━\u001b[0m\u001b[37m\u001b[0m \u001b[1m453s\u001b[0m 570ms/step - accuracy: 0.6821 - loss: 0.8833 - val_accuracy: 0.5665 - val_loss: 1.3103\n",
      "Epoch 19/40\n",
      "\u001b[1m795/795\u001b[0m \u001b[32m━━━━━━━━━━━━━━━━━━━━\u001b[0m\u001b[37m\u001b[0m \u001b[1m544s\u001b[0m 684ms/step - accuracy: 0.7010 - loss: 0.8510 - val_accuracy: 0.5802 - val_loss: 1.2777\n",
      "Epoch 20/40\n",
      "\u001b[1m795/795\u001b[0m \u001b[32m━━━━━━━━━━━━━━━━━━━━\u001b[0m\u001b[37m\u001b[0m \u001b[1m499s\u001b[0m 628ms/step - accuracy: 0.7136 - loss: 0.8031 - val_accuracy: 0.5836 - val_loss: 1.2643\n",
      "Epoch 21/40\n",
      "\u001b[1m795/795\u001b[0m \u001b[32m━━━━━━━━━━━━━━━━━━━━\u001b[0m\u001b[37m\u001b[0m \u001b[1m463s\u001b[0m 582ms/step - accuracy: 0.7359 - loss: 0.7510 - val_accuracy: 0.5871 - val_loss: 1.2579\n",
      "Epoch 22/40\n",
      "\u001b[1m795/795\u001b[0m \u001b[32m━━━━━━━━━━━━━━━━━━━━\u001b[0m\u001b[37m\u001b[0m \u001b[1m453s\u001b[0m 570ms/step - accuracy: 0.7454 - loss: 0.7076 - val_accuracy: 0.5915 - val_loss: 1.2623\n",
      "Epoch 23/40\n",
      "\u001b[1m795/795\u001b[0m \u001b[32m━━━━━━━━━━━━━━━━━━━━\u001b[0m\u001b[37m\u001b[0m \u001b[1m522s\u001b[0m 657ms/step - accuracy: 0.7688 - loss: 0.6473 - val_accuracy: 0.5965 - val_loss: 1.2679\n",
      "Epoch 24/40\n",
      "\u001b[1m795/795\u001b[0m \u001b[32m━━━━━━━━━━━━━━━━━━━━\u001b[0m\u001b[37m\u001b[0m \u001b[1m567s\u001b[0m 713ms/step - accuracy: 0.7826 - loss: 0.6134 - val_accuracy: 0.6044 - val_loss: 1.2491\n",
      "Epoch 25/40\n",
      "\u001b[1m795/795\u001b[0m \u001b[32m━━━━━━━━━━━━━━━━━━━━\u001b[0m\u001b[37m\u001b[0m \u001b[1m563s\u001b[0m 708ms/step - accuracy: 0.7909 - loss: 0.5869 - val_accuracy: 0.6096 - val_loss: 1.2283\n",
      "Epoch 26/40\n",
      "\u001b[1m795/795\u001b[0m \u001b[32m━━━━━━━━━━━━━━━━━━━━\u001b[0m\u001b[37m\u001b[0m \u001b[1m497s\u001b[0m 625ms/step - accuracy: 0.8041 - loss: 0.5454 - val_accuracy: 0.6124 - val_loss: 1.2278\n",
      "Epoch 27/40\n",
      "\u001b[1m795/795\u001b[0m \u001b[32m━━━━━━━━━━━━━━━━━━━━\u001b[0m\u001b[37m\u001b[0m \u001b[1m530s\u001b[0m 667ms/step - accuracy: 0.8160 - loss: 0.5197 - val_accuracy: 0.6176 - val_loss: 1.2245\n",
      "Epoch 28/40\n",
      "\u001b[1m795/795\u001b[0m \u001b[32m━━━━━━━━━━━━━━━━━━━━\u001b[0m\u001b[37m\u001b[0m \u001b[1m538s\u001b[0m 677ms/step - accuracy: 0.8276 - loss: 0.4841 - val_accuracy: 0.6236 - val_loss: 1.2188\n",
      "Epoch 29/40\n",
      "\u001b[1m795/795\u001b[0m \u001b[32m━━━━━━━━━━━━━━━━━━━━\u001b[0m\u001b[37m\u001b[0m \u001b[1m542s\u001b[0m 682ms/step - accuracy: 0.8452 - loss: 0.4407 - val_accuracy: 0.6245 - val_loss: 1.2144\n",
      "Epoch 30/40\n",
      "\u001b[1m795/795\u001b[0m \u001b[32m━━━━━━━━━━━━━━━━━━━━\u001b[0m\u001b[37m\u001b[0m \u001b[1m530s\u001b[0m 667ms/step - accuracy: 0.8567 - loss: 0.4066 - val_accuracy: 0.6291 - val_loss: 1.2206\n",
      "Epoch 31/40\n",
      "\u001b[1m795/795\u001b[0m \u001b[32m━━━━━━━━━━━━━━━━━━━━\u001b[0m\u001b[37m\u001b[0m \u001b[1m543s\u001b[0m 683ms/step - accuracy: 0.8616 - loss: 0.3885 - val_accuracy: 0.6299 - val_loss: 1.2144\n",
      "Epoch 32/40\n",
      "\u001b[1m795/795\u001b[0m \u001b[32m━━━━━━━━━━━━━━━━━━━━\u001b[0m\u001b[37m\u001b[0m \u001b[1m538s\u001b[0m 676ms/step - accuracy: 0.8744 - loss: 0.3538 - val_accuracy: 0.6294 - val_loss: 1.2357\n",
      "Epoch 33/40\n",
      "\u001b[1m795/795\u001b[0m \u001b[32m━━━━━━━━━━━━━━━━━━━━\u001b[0m\u001b[37m\u001b[0m \u001b[1m526s\u001b[0m 662ms/step - accuracy: 0.8821 - loss: 0.3358 - val_accuracy: 0.6308 - val_loss: 1.2387\n",
      "Epoch 34/40\n",
      "\u001b[1m795/795\u001b[0m \u001b[32m━━━━━━━━━━━━━━━━━━━━\u001b[0m\u001b[37m\u001b[0m \u001b[1m535s\u001b[0m 673ms/step - accuracy: 0.8942 - loss: 0.3074 - val_accuracy: 0.6303 - val_loss: 1.2552\n",
      "Epoch 35/40\n",
      "\u001b[1m795/795\u001b[0m \u001b[32m━━━━━━━━━━━━━━━━━━━━\u001b[0m\u001b[37m\u001b[0m \u001b[1m536s\u001b[0m 675ms/step - accuracy: 0.8972 - loss: 0.2978 - val_accuracy: 0.6316 - val_loss: 1.2561\n",
      "Epoch 36/40\n",
      "\u001b[1m795/795\u001b[0m \u001b[32m━━━━━━━━━━━━━━━━━━━━\u001b[0m\u001b[37m\u001b[0m \u001b[1m543s\u001b[0m 683ms/step - accuracy: 0.9097 - loss: 0.2632 - val_accuracy: 0.6321 - val_loss: 1.2736\n",
      "Epoch 37/40\n",
      "\u001b[1m795/795\u001b[0m \u001b[32m━━━━━━━━━━━━━━━━━━━━\u001b[0m\u001b[37m\u001b[0m \u001b[1m524s\u001b[0m 660ms/step - accuracy: 0.9173 - loss: 0.2487 - val_accuracy: 0.6398 - val_loss: 1.2471\n",
      "Epoch 38/40\n",
      "\u001b[1m795/795\u001b[0m \u001b[32m━━━━━━━━━━━━━━━━━━━━\u001b[0m\u001b[37m\u001b[0m \u001b[1m463s\u001b[0m 582ms/step - accuracy: 0.9219 - loss: 0.2272 - val_accuracy: 0.6395 - val_loss: 1.2599\n",
      "Epoch 39/40\n",
      "\u001b[1m795/795\u001b[0m \u001b[32m━━━━━━━━━━━━━━━━━━━━\u001b[0m\u001b[37m\u001b[0m \u001b[1m472s\u001b[0m 594ms/step - accuracy: 0.9268 - loss: 0.2119 - val_accuracy: 0.6409 - val_loss: 1.2770\n",
      "Epoch 40/40\n",
      "\u001b[1m795/795\u001b[0m \u001b[32m━━━━━━━━━━━━━━━━━━━━\u001b[0m\u001b[37m\u001b[0m \u001b[1m460s\u001b[0m 579ms/step - accuracy: 0.9403 - loss: 0.1929 - val_accuracy: 0.6436 - val_loss: 1.2740\n"
     ]
    }
   ],
   "source": [
    "history = model.fit(\n",
    "    X_train, y_train,\n",
    "    validation_data=(X_test, y_test),\n",
    "    epochs=40,\n",
    "    batch_size=32,\n",
    "    class_weight=class_weights,\n",
    "    callbacks=[checkpoint, early_stopping]\n",
    ")"
   ]
  },
  {
   "cell_type": "code",
   "execution_count": 84,
   "metadata": {},
   "outputs": [
    {
     "name": "stdout",
     "output_type": "stream",
     "text": [
      "\u001b[1m199/199\u001b[0m \u001b[32m━━━━━━━━━━━━━━━━━━━━\u001b[0m\u001b[37m\u001b[0m \u001b[1m62s\u001b[0m 312ms/step - accuracy: 0.6465 - loss: 1.2439\n",
      "Test accuracy: 0.6435534358024597\n"
     ]
    }
   ],
   "source": [
    "loss, accuracy = model.evaluate(X_test, y_test, verbose=1)\n",
    "print(f'Test accuracy: {accuracy}')"
   ]
  },
  {
   "cell_type": "code",
   "execution_count": 85,
   "metadata": {},
   "outputs": [
    {
     "name": "stdout",
     "output_type": "stream",
     "text": [
      "\u001b[1m199/199\u001b[0m \u001b[32m━━━━━━━━━━━━━━━━━━━━\u001b[0m\u001b[37m\u001b[0m \u001b[1m64s\u001b[0m 315ms/step\n",
      "Classification Report:\n",
      "              precision    recall  f1-score   support\n",
      "\n",
      "      Others       0.60      0.58      0.59       894\n",
      "       Honda       0.61      0.54      0.57       554\n",
      "     Hyundai       0.61      0.57      0.59       618\n",
      "         KIA       0.56      0.56      0.56       506\n",
      "       Mazda       0.70      0.74      0.72       598\n",
      "  Mitsubishi       0.46      0.59      0.52       538\n",
      "      Toyota       0.66      0.63      0.65      1018\n",
      "      Suzuki       0.79      0.75      0.77      1193\n",
      "     Vinfast       0.71      0.76      0.73       441\n",
      "\n",
      "    accuracy                           0.64      6360\n",
      "   macro avg       0.63      0.64      0.63      6360\n",
      "weighted avg       0.65      0.64      0.64      6360\n",
      "\n"
     ]
    }
   ],
   "source": [
    "y_pred = model.predict(X_test).argmax(axis=1)\n",
    "y_test_labels = y_test.argmax(axis=1)\n",
    "print(\"Classification Report:\")\n",
    "print(classification_report(y_test_labels, y_pred, target_names=list(tag_mapping.keys())))"
   ]
  },
  {
   "cell_type": "code",
   "execution_count": 86,
   "metadata": {},
   "outputs": [],
   "source": [
    "model.save('best_car_brand_model_classweight.keras')"
   ]
  },
  {
   "cell_type": "code",
   "execution_count": 87,
   "metadata": {},
   "outputs": [],
   "source": [
    "def predict_car_brand(image_path, model, tag_mapping):\n",
    "    try:\n",
    "        # Load and preprocess the image\n",
    "        img = load_img(image_path, target_size=(224, 224))\n",
    "        img_array = img_to_array(img) / 255.0\n",
    "        img_array = np.expand_dims(img_array, axis=0)\n",
    "\n",
    "        # Predict the class\n",
    "        predictions = model.predict(img_array)\n",
    "        predicted_class = np.argmax(predictions, axis=1)[0]\n",
    "        predicted_label = list(tag_mapping.keys())[predicted_class]\n",
    "\n",
    "        return predicted_label\n",
    "    except Exception as e:\n",
    "        print(f\"Error predicting car brand: {e}\")\n",
    "        return None"
   ]
  },
  {
   "cell_type": "code",
   "execution_count": 90,
   "metadata": {},
   "outputs": [
    {
     "name": "stdout",
     "output_type": "stream",
     "text": [
      "\u001b[1m1/1\u001b[0m \u001b[32m━━━━━━━━━━━━━━━━━━━━\u001b[0m\u001b[37m\u001b[0m \u001b[1m1s\u001b[0m 929ms/step\n",
      "Predicted Car Brand: Mitsubishi\n"
     ]
    }
   ],
   "source": [
    "# model = load_model('best_car_brand_model_classweight.keras')\n",
    "# result = predict_car_brand('test_2.jpg', model, tag_mapping)\n",
    "# print(f\"Predicted Car Brand: {result}\")\n",
    "\n",
    "# Test with internet image"
   ]
  }
 ],
 "metadata": {
  "kernelspec": {
   "display_name": ".venv",
   "language": "python",
   "name": "python3"
  },
  "language_info": {
   "codemirror_mode": {
    "name": "ipython",
    "version": 3
   },
   "file_extension": ".py",
   "mimetype": "text/x-python",
   "name": "python",
   "nbconvert_exporter": "python",
   "pygments_lexer": "ipython3",
   "version": "3.12.0"
  }
 },
 "nbformat": 4,
 "nbformat_minor": 2
}
